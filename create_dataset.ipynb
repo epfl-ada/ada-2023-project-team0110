{
 "cells": [
  {
   "cell_type": "code",
   "execution_count": 23,
   "metadata": {},
   "outputs": [],
   "source": [
    "import pandas as pd\n",
    "from pathlib import Path\n",
    "import requests\n",
    "import tarfile\n",
    "from wikimapper import WikiMapper\n",
    "from datapackage import Package\n",
    "import numpy as np"
   ]
  },
  {
   "cell_type": "markdown",
   "metadata": {},
   "source": [
    "## CMU Movie Dataset\n",
    "Primary dataset for our analysis, downloaded from the [CMU Official Website](http://www.cs.cmu.edu/~ark/personas/). The main file movie.metadata.tsv is stored in the `data` folder. \n",
    "\n",
    "Before running this, please remove the `data` folder from your working directory. "
   ]
  },
  {
   "cell_type": "code",
   "execution_count": null,
   "metadata": {},
   "outputs": [],
   "source": [
    "MOVIE_CMU_URL = \"http://www.cs.cmu.edu/~ark/personas/data/MovieSummaries.tar.gz\"\n",
    "response = requests.get(MOVIE_CMU_URL, stream=True)\n",
    "file = tarfile.open(fileobj=response.raw, mode=\"r|gz\")\n",
    "file.extractall(path='.')\n",
    "\n",
    "Path(\"MovieSummaries\").rename(\"data\")\n",
    "data_path = Path(\"data\")\n",
    "\n",
    "for file_name in [\"character.metadata.tsv\", \"name.clusters.txt\", \"plot_summaries.txt\", \"README.txt\", \"tvtropes.clusters.txt\"]:\n",
    "    file_path = data_path / file_name\n",
    "    if file_path.exists():\n",
    "        file_path.unlink()\n",
    "\n",
    "cmu_cols = [\"movie_wikipedia_id\", \"movie_freebase_id\", \"movie_title\", \"movie_release\", \"movie_revenue\", \"movie_runtime\", \"movie_languages\", \"movie_countries\", \"movie_genres\"]\n",
    "cmu_df = (pd.read_csv(\n",
    "    data_path / \"movie.metadata.tsv\", \n",
    "    sep=\"\\t\", \n",
    "    header=None, \n",
    "    names=cmu_cols, \n",
    "    usecols=[\"movie_wikipedia_id\", \"movie_title\", \"movie_release\", \"movie_revenue\", \"movie_runtime\",  \"movie_languages\", \"movie_countries\", \"movie_genres\"])\n",
    "    .assign(\n",
    "        movie_release=lambda df: df.movie_release.astype(str).str.slice(0, 4).replace(\"nan\", pd.NA).astype(\"Int32\"),\n",
    "    )\n",
    ")"
   ]
  },
  {
   "cell_type": "markdown",
   "metadata": {},
   "source": [
    "## Mapping Wikipedia IDs to Wikidata IDs\n",
    "\n",
    "Our analysis requires connecting movies to books they're based on. We use the [wikimapper](https://github.com/jcklie/wikimapper) Python library for mapping Wikipedia IDs (available in the CMU movie dataset) to Wikidata IDs (which we will need to join the results of the Wikidata Query Service), requiring a Wikipedia SQL dump for creating an index.\n"
   ]
  },
  {
   "cell_type": "markdown",
   "metadata": {},
   "source": [
    "The following commands may take around one hour to finish. "
   ]
  },
  {
   "cell_type": "code",
   "execution_count": 28,
   "metadata": {},
   "outputs": [
    {
     "name": "stdout",
     "output_type": "stream",
     "text": [
      "2023-11-15 15:06:03,101 - wikimapper.download - INFO - Downloading [https://dumps.wikimedia.org/enwiki/latest/enwiki-latest-page.sql.gz] to [data/enwiki-latest-page.sql.gz]\n",
      "2023-11-15 15:13:47,592 - wikimapper.download - INFO - Downloading [https://dumps.wikimedia.org/enwiki/latest/enwiki-latest-page_props.sql.gz] to [data/enwiki-latest-page_props.sql.gz]\n",
      "2023-11-15 15:15:15,525 - wikimapper.download - INFO - Downloading [https://dumps.wikimedia.org/enwiki/latest/enwiki-latest-redirect.sql.gz] to [data/enwiki-latest-redirect.sql.gz]\n",
      "2023-11-15 15:15:52,647 - wikimapper.processor - INFO - Creating index for [enwiki-latest] in [data/index_enwiki-latest.db]\n",
      "2023-11-15 15:15:52,662 - wikimapper.processor - INFO - Parsing pages dump\n",
      "2023-11-15 15:24:09,978 - wikimapper.processor - INFO - Creating database index on 'wikipedia_title'\n",
      "2023-11-15 15:25:20,468 - wikimapper.processor - INFO - Parsing page properties dump\n",
      "2023-11-15 15:28:12,513 - wikimapper.processor - INFO - Parsing redirects dump\n",
      "2023-11-15 16:26:08,033 - wikimapper.processor - INFO - Creating database index on 'wikidata_id'\n"
     ]
    }
   ],
   "source": [
    "!wikimapper download enwiki-latest --dir data\n",
    "!wikimapper create enwiki-latest --dumpdir data --target data/index_enwiki-latest.db"
   ]
  },
  {
   "cell_type": "markdown",
   "metadata": {},
   "source": [
    "Enrich the CMU Movie Dataframe by mapping the wikipedia id to the wikidata id. "
   ]
  },
  {
   "cell_type": "code",
   "execution_count": 37,
   "metadata": {},
   "outputs": [],
   "source": [
    "mapper = WikiMapper(data_path / \"index_enwiki-latest.db\")\n",
    "cmu_df = (cmu_df.assign(\n",
    "            movie_wikidata_id = lambda x: x.movie_wikipedia_id.apply(\n",
    "                lambda wikipedia_id: mapper.wikipedia_id_to_id(wikipedia_id)\n",
    "                )\n",
    "            )\n",
    "            .drop(columns=[\"movie_wikipedia_id\"])\n",
    "         )"
   ]
  },
  {
   "cell_type": "markdown",
   "metadata": {},
   "source": [
    "## Identifying Movies Based on Books Using Wikidata\n",
    "We identify book-adaptations using the Wikidata database, focusing on the P144 (based on) relation. A SPARQL query on Wikidata Query Service helps us extract interconnected pairs of movie and book entities along with book attributes."
   ]
  },
  {
   "cell_type": "code",
   "execution_count": 38,
   "metadata": {},
   "outputs": [
    {
     "name": "stderr",
     "output_type": "stream",
     "text": [
      "/var/folders/73/4f40pvqd15d7bgql2yrmyvzm0000gn/T/ipykernel_42751/418483006.py:59: UserWarning: Could not infer format, so each element will be parsed individually, falling back to `dateutil`. To ensure parsing is consistent and as-expected, please specify a format.\n",
      "  book_release = lambda x: pd.to_datetime(x.pubDateLabel, errors='coerce').dt.year.astype('Int64')\n"
     ]
    }
   ],
   "source": [
    "WIKI_DATA_SERVICE_URL = 'https://query.wikidata.org/sparql'\n",
    "query = '''\n",
    "SELECT DISTINCT ?movie ?book ?bookLabel ?authorLabel ?instanceOfLabel ?countryLabel ?pubDateLabel ?genreLabel ?awardLabel ?seriesLabel ?goodreadsLabel\n",
    "WHERE \n",
    "{\n",
    "  VALUES ?bookType { wd:Q47461344 wd:Q7725634 wd:Q571 wd:Q14406742 wd:Q21198342 wd:Q277759 }\n",
    "  VALUES ?movieType { wd:Q11424 wd:Q506240 }\n",
    "\n",
    "  ?book wdt:P31 ?bookType.\n",
    "  OPTIONAL {?book wdt:P50 ?author}\n",
    "  OPTIONAL {?book wdt:P31 ?instanceOf}\n",
    "  OPTIONAL {?book wdt:P495 ?country}\n",
    "  OPTIONAL {?book wdt:P577 ?pubDate}\n",
    "  OPTIONAL {?book wdt:P136 ?genre}\n",
    "  OPTIONAL {?book wdt:P166 ?award}\n",
    "  OPTIONAL {?book wdt:P179 ?series}\n",
    "  OPTIONAL {?book wdt:P8383 ?goodreads}\n",
    "\n",
    "  ?movie wdt:P31 ?movieType;          \n",
    "         wdt:P144 ?book.\n",
    "\n",
    "  SERVICE wikibase:label { bd:serviceParam wikibase:language \"[AUTO_LANGUAGE],en\". }\n",
    "}\n",
    "'''\n",
    "query_result = requests.get(WIKI_DATA_SERVICE_URL, params = {'format': 'json', 'query': query})\n",
    "wikidata_df =pd.DataFrame(query_result.json()['results']['bindings'])\n",
    "for column in wikidata_df.columns:\n",
    "    wikidata_df[column] = wikidata_df[column].apply(lambda x: x['value'] if isinstance(x, dict) and 'value' in x else x)\n",
    "  \n",
    "def get_list(series: pd.Series) -> list:\n",
    "    return list(set(series.dropna().tolist()))\n",
    "\n",
    "def mode(x: pd.Series) -> pd.Series:\n",
    "    modes = x.mode()\n",
    "    if len(modes) > 0:\n",
    "        return modes.iloc[0]\n",
    "    return None\n",
    "\n",
    "categories = {\n",
    "    'fiction': {'novel', 'short novel', 'novella', 'serialized fiction', 'short story', 'war fiction', 'magic realist fiction', 'metafiction', 'science fiction', 'suspense in literature', 'horror novel', 'horror fiction', 'crime fiction', 'psychological thriller', 'speculative/fantastic fiction', 'adventure fiction', 'detective fiction', 'noir fiction', 'political novel', 'vampire fiction', 'dystopian fiction', 'social science fiction', 'techno-thriller', 'thriller', 'fantasy', 'Gothic novel', 'picaresque novel', 'mystery fiction', 'post-apocalyptic fiction', 'philosophical fiction', 'romantic fiction', 'Bildungsroman', 'roman à clef', 'comedy', 'black comedy'},\n",
    "    'non_fiction': {'nonfiction', 'memoir', 'autobiography', 'biographical novel', 'biography', 'essay'},\n",
    "    'children': {'children\\'s literature', 'children\\'s fiction', 'young adult fiction', 'children\\'s novel'},\n",
    "    'historical': {'historical fiction', 'historical novel'},\n",
    "    'drama': {'play', 'drama', 'tragedy'},\n",
    "    'anime': {'adventure anime and manga', 'drama anime and manga'},\n",
    "    'fantasy': {'magic realist fiction', 'fantasy', 'vampire fiction', 'fairy tale'},\n",
    "    'science_fiction': {'science fiction', 'dystopian fiction', 'social science fiction', 'techno-thriller', 'post-apocalyptic fiction'},\n",
    "    'horror': {'horror novel', 'horror fiction'},\n",
    "    'thriller': {'psychological thriller', 'thriller'},\n",
    "    'detective': {'detective fiction', 'noir fiction', 'mystery fiction', 'cloak and dagger novel'},\n",
    "    'satire': {'satire', 'satirical fiction', 'metafiction'},\n",
    "    'comedy': {'comedy', 'black comedy'},\n",
    "}\n",
    "\n",
    "wikidata_df = (wikidata_df\n",
    "                .assign(\n",
    "                    movie_wikidata_id = lambda x: x.movie.str.split('/').str[-1],\n",
    "                    book_wikidata_id = lambda x: x.book.str.split('/').str[-1],\n",
    "                    book_release = lambda x: pd.to_datetime(x.pubDateLabel, errors='coerce').dt.year.astype('Int64')\n",
    "                )\n",
    "                .groupby(['movie_wikidata_id', 'book_wikidata_id'])\n",
    "                .agg(\n",
    "                    book_title = pd.NamedAgg(column='bookLabel', aggfunc=mode),\n",
    "                    book_author = ('authorLabel', 'first'),\n",
    "                    book_release = ('book_release', 'first'),\n",
    "                    book_country = ('countryLabel', 'first'),\n",
    "                    book_goodreads_id = ('goodreadsLabel', 'first'),\n",
    "                    series = ('seriesLabel', 'first'),\n",
    "                    instance_of = pd.NamedAgg(column='instanceOfLabel', aggfunc=get_list),\n",
    "                    genre = pd.NamedAgg(column='genreLabel', aggfunc=get_list),\n",
    "                    award = pd.NamedAgg(column='awardLabel', aggfunc=get_list)\n",
    "                )\n",
    "                .assign(\n",
    "                    book_part_of_series = lambda x: x.series.notnull().astype(int),\n",
    "                    literary_work = lambda x: x.instance_of.apply(lambda y: 'literary work' in y).astype(int),\n",
    "                    written_work = lambda x: x.instance_of.apply(lambda y: 'written work' in y).astype(int),\n",
    "                    comic_book_seris = lambda x: x.instance_of.apply(lambda y: 'comic book series' in y).astype(int),\n",
    "                    book_series = lambda x: x.instance_of.apply(lambda y: 'book series' in y).astype(int),\n",
    "                    manga_series = lambda x: x.instance_of.apply(lambda y: 'manga series' in y).astype(int),\n",
    "                    book_fiction = lambda x: x.genre.apply(lambda y: len(set(y).intersection(categories['fiction'])) > 0).astype(int),\n",
    "                    book_non_fiction = lambda x: x.genre.apply(lambda y: len(set(y).intersection(categories['non_fiction'])) > 0).astype(int),\n",
    "                    book_children = lambda x: x.genre.apply(lambda y: len(set(y).intersection(categories['children'])) > 0).astype(int),\n",
    "                    book_historical = lambda x: x.genre.apply(lambda y: len(set(y).intersection(categories['historical'])) > 0).astype(int),\n",
    "                    book_drama = lambda x: x.genre.apply(lambda y: len(set(y).intersection(categories['drama'])) > 0).astype(int),\n",
    "                    book_anime = lambda x: x.genre.apply(lambda y: len(set(y).intersection(categories['anime'])) > 0).astype(int),\n",
    "                    book_fantasy = lambda x: x.genre.apply(lambda y: len(set(y).intersection(categories['fantasy'])) > 0).astype(int),\n",
    "                    book_science_fiction = lambda x: x.genre.apply(lambda y: len(set(y).intersection(categories['science_fiction'])) > 0).astype(int),\n",
    "                    book_horror = lambda x: x.genre.apply(lambda y: len(set(y).intersection(categories['horror'])) > 0).astype(int),\n",
    "                    book_thriller = lambda x: x.genre.apply(lambda y: len(set(y).intersection(categories['thriller'])) > 0).astype(int),\n",
    "                    book_detective = lambda x: x.genre.apply(lambda y: len(set(y).intersection(categories['detective'])) > 0).astype(int),\n",
    "                    book_satire = lambda x: x.genre.apply(lambda y: len(set(y).intersection(categories['satire'])) > 0).astype(int),\n",
    "                    book_comedy = lambda x: x.genre.apply(lambda y: len(set(y).intersection(categories['comedy'])) > 0).astype(int),\n",
    "                    book_won_price = lambda x: x.award.apply(lambda y: len(y) > 0).astype(int),\n",
    "                )\n",
    "                .drop(['instance_of', 'genre', 'award', 'series'], axis=1)\n",
    "                .reset_index()\n",
    "                )"
   ]
  },
  {
   "cell_type": "markdown",
   "metadata": {},
   "source": [
    "## Setting Up Kaggle API for Dataset Access\n",
    "\n",
    "Some of the datasets we use are from Kaggle. To access certain datasets on Kaggle, you'll need a Kaggle account and an API token. Kaggle provides an API that allows you to programmatically download datasets directly into your Jupyter Notebook environment. Here's how to set up and use the Kaggle API token:\n",
    "\n",
    "### 1. Kaggle Account and Token\n",
    "\n",
    "If you don't already have a Kaggle account, you can sign up for one at [Kaggle](https://www.kaggle.com/). Once you have an account, follow these steps to create an API token:\n",
    "\n",
    "- Log in to your Kaggle account.\n",
    "- Go to your account settings page by clicking on your profile picture in the upper right-hand corner of the Kaggle website and selecting \"Account.\"\n",
    "- Scroll down to the \"API\" section and click on the \"Create New API Token\" button. This will download a file called `kaggle.json` containing your API credentials.\n",
    "\n",
    "### 2. Storing the Kaggle API Token\n",
    "\n",
    "To use the Kaggle API in your Jupyter Notebook, you need to store the `kaggle.json` at a designated folder. To do copy the `kaggle.json` in your working directory and run the following commands:\n"
   ]
  },
  {
   "cell_type": "code",
   "execution_count": null,
   "metadata": {},
   "outputs": [],
   "source": [
    "! mkdir ~/.kaggle\n",
    "! mv kaggle.json ~/.kaggle/\n",
    "! chmod 600 ~/.kaggle/kaggle.json"
   ]
  },
  {
   "cell_type": "markdown",
   "metadata": {},
   "source": [
    "## Goodreads Dataset\n",
    "For further information about the books, we use a [Kaggle](https://www.kaggle.com) dataset curated from [Goodreads](https://www.goodreads.com). In particular we will investigate how the book ratings on goodread influence the respective book-adaptations. "
   ]
  },
  {
   "cell_type": "code",
   "execution_count": null,
   "metadata": {},
   "outputs": [],
   "source": [
    "!kaggle datasets download -d mdhamani/goodreads-books-100k\n",
    "!unzip goodreads-books-100k.zip\n",
    "!rm goodreads-books-100k.zip\n",
    "!mv GoodReads_100k_books.csv data/"
   ]
  },
  {
   "cell_type": "code",
   "execution_count": 39,
   "metadata": {},
   "outputs": [],
   "source": [
    "goodreads_df = (pd.read_csv(\"data/GoodReads_100k_books.csv\", usecols=['link', 'pages', 'rating', 'totalratings'])\n",
    "                .assign(\n",
    "                    book_goodreads_id = lambda x: x.link.str.split('/').str[-1].str.replace('.', '-').str.split('-').str[0],\n",
    "                )\n",
    "                .drop(columns=['link'])\n",
    "                .rename(columns={'pages': 'book_pages', 'rating': 'book_rating', 'totalratings': 'book_total_ratings'})\n",
    "                )"
   ]
  },
  {
   "cell_type": "markdown",
   "metadata": {},
   "source": [
    "## Enhancing Revenue Data with TMDB\n",
    "The CMU dataset lacks comprehensive revenue data, so we supplement it with revenue information from [The Movie Database](https://www.themoviedb.org)."
   ]
  },
  {
   "cell_type": "code",
   "execution_count": null,
   "metadata": {},
   "outputs": [],
   "source": [
    "!kaggle datasets download -d rounakbanik/the-movies-dataset\n",
    "!unzip the-movies-dataset.zip\n",
    "!rm the-movies-dataset.zip\n",
    "!mv movies_metadata.csv data/\n",
    "!rm credits.csv\n",
    "!rm keywords.csv\n",
    "!rm links.csv\n",
    "!rm links_small.csv\n",
    "!rm ratings.csv\n",
    "!rm ratings_small.csv"
   ]
  },
  {
   "cell_type": "code",
   "execution_count": 40,
   "metadata": {},
   "outputs": [
    {
     "name": "stderr",
     "output_type": "stream",
     "text": [
      "/var/folders/73/4f40pvqd15d7bgql2yrmyvzm0000gn/T/ipykernel_42751/2242882381.py:5: DtypeWarning: Columns (10) have mixed types. Specify dtype option on import or set low_memory=False.\n",
      "  tmdb_df = (pd.read_csv(\"data/movies_metadata.csv\")\n"
     ]
    }
   ],
   "source": [
    "def replace_jpg(x):\n",
    "    return np.nan if isinstance(x, str) and x.endswith('.jpg') else x\n",
    "\n",
    "\n",
    "tmdb_df = (pd.read_csv(\"data/movies_metadata.csv\")\n",
    "            .assign(\n",
    "                    movie_budget = lambda df: df.budget.apply(replace_jpg).astype(\"Int64\").replace(0, pd.NA),\n",
    "                    movie_revenue_tmdb = lambda df: df.revenue.replace(0.0, pd.NA).astype(\"Int64\")\n",
    "            )\n",
    "            .loc[:, ['imdb_id', 'movie_budget', 'movie_revenue_tmdb']]\n",
    "          )\n",
    "tmdb_df.drop_duplicates(subset=['imdb_id'], inplace=True)"
   ]
  },
  {
   "cell_type": "markdown",
   "metadata": {},
   "source": [
    "## Normalizing Revenues and Budgets with CPI\n",
    "To make 70 years' worth of revenue and budget data comparable, we adjust for inflation using the US Consumer Price Index (CPI)."
   ]
  },
  {
   "cell_type": "code",
   "execution_count": 67,
   "metadata": {},
   "outputs": [],
   "source": [
    "package = Package('https://datahub.io/core/cpi-us/datapackage.json')\n",
    "cpi_df = (pd.DataFrame(package.resources[1].read(), columns=['date', 'cpi', '_'])\n",
    "          .assign(\n",
    "                year = lambda df: df.date.astype(str).str.slice(0, 4).astype(\"Int32\"),\n",
    "                inflation_adjustment = lambda df: (df.cpi.iloc[-1] / df.cpi).astype(float)\n",
    "            )\n",
    "          .drop(columns=['date', 'cpi', '_'])\n",
    "          .drop_duplicates(subset=['year'])\n",
    "          .reset_index(drop=True)\n",
    "          .assign(inflation_adjustment = lambda x: x.inflation_adjustment.astype(float))\n",
    "        )"
   ]
  },
  {
   "cell_type": "markdown",
   "metadata": {},
   "source": [
    "## IMDb Ratings\n",
    "We load IMDb movie ratings to assess the 'goodness' of movies according to users' opinions."
   ]
  },
  {
   "cell_type": "code",
   "execution_count": 3,
   "metadata": {},
   "outputs": [
    {
     "name": "stdout",
     "output_type": "stream",
     "text": [
      "  % Total    % Received % Xferd  Average Speed   Time    Time     Time  Current\n",
      "                                 Dload  Upload   Total   Spent    Left  Speed\n",
      "100 6722k  100 6722k    0     0  9941k      0 --:--:-- --:--:-- --:--:--  9.8M\n",
      "rm: title.ratings.tsv.gz: No such file or directory\n",
      "mv: rename data/title.ratings.tsv to data/imdb_ratings.tsv: No such file or directory\n"
     ]
    }
   ],
   "source": [
    "!curl -o title.ratings.tsv.gz https://datasets.imdbws.com/title.ratings.tsv.gz\n",
    "!gunzip title.ratings.tsv.gz\n",
    "!mv title.ratings.tsv data/\n",
    "!rm title.ratings.tsv.gz"
   ]
  },
  {
   "cell_type": "code",
   "execution_count": 42,
   "metadata": {},
   "outputs": [],
   "source": [
    "imdb_df = (pd.read_csv(\"data/title.ratings.tsv\", sep='\\t')\n",
    "            .rename(columns={\n",
    "                'tconst': 'imdb_id', \n",
    "                'averageRating': 'imdb_rating', \n",
    "                'numVotes': 'imdb_total_votes'})\n",
    "            )"
   ]
  },
  {
   "cell_type": "markdown",
   "metadata": {},
   "source": [
    "## IMDB ID\n",
    "To join IMDb and TMDB datasets, we query IMDb IDs from Wikidata."
   ]
  },
  {
   "cell_type": "code",
   "execution_count": 43,
   "metadata": {},
   "outputs": [],
   "source": [
    "query = '''\n",
    "SELECT ?movie ?IMDB_ID\n",
    "WHERE\n",
    "{\n",
    "VALUES ?movieType { wd:Q11424 wd:Q506240 }\n",
    "?movie wdt:P31 ?movieType.\n",
    "?movie wdt:P345 ?IMDB_ID.\n",
    "\n",
    "SERVICE wikibase:label { bd:serviceParam wikibase:language \"[AUTO_LANGUAGE],en\". }\n",
    "}\n",
    "'''\n",
    "query_result = requests.get(WIKI_DATA_SERVICE_URL, params = {'format': 'json', 'query': query})\n",
    "wikidata_imdb_df =pd.DataFrame(query_result.json()['results']['bindings'])\n",
    "for column in wikidata_imdb_df.columns:\n",
    "    wikidata_imdb_df[column] = wikidata_imdb_df[column].apply(lambda x: x['value'] if isinstance(x, dict) and 'value' in x else x)\n",
    "    "
   ]
  },
  {
   "cell_type": "code",
   "execution_count": 44,
   "metadata": {},
   "outputs": [],
   "source": [
    "wikidata_imdb_df = (wikidata_imdb_df\n",
    "                    .assign(\n",
    "                        movie_wikidata_id = lambda x: x.movie.str.split('/').str[-1],\n",
    "                        imdb_id = lambda x: x.IMDB_ID\n",
    "                    )\n",
    "                    .loc[:, ['movie_wikidata_id', 'imdb_id']]\n",
    "                    )"
   ]
  },
  {
   "cell_type": "markdown",
   "metadata": {},
   "source": [
    "## Merge Datasets"
   ]
  },
  {
   "cell_type": "code",
   "execution_count": 73,
   "metadata": {},
   "outputs": [],
   "source": [
    "book_adaptation_df = (cmu_df\n",
    "                        .merge(wikidata_imdb_df, on='movie_wikidata_id', how='left')\n",
    "                        .merge(imdb_df, on='imdb_id', how='left')\n",
    "                        .merge(tmdb_df, on='imdb_id', how='left')\n",
    "                        .merge(wikidata_df, on='movie_wikidata_id', how='left')\n",
    "                        .merge(goodreads_df, on='book_goodreads_id', how='left')\n",
    "                        .merge(cpi_df, left_on='movie_release', right_on='year', how='left')\n",
    "                        .assign(\n",
    "                            movie_budget = lambda x: x.movie_budget.astype(float),\n",
    "                            movie_revenue = lambda x: x.movie_revenue.fillna(x.movie_revenue_tmdb).astype(float),\n",
    "                            movie_is_adaptation = lambda x: x.book_wikidata_id.notna()\n",
    "                            )\n",
    "                        .assign(\n",
    "                            movie_budget = lambda df: df.movie_budget * df.inflation_adjustment,\n",
    "                            movie_revenue = lambda df: df.movie_revenue * df.inflation_adjustment\n",
    "                        )\n",
    "                        .drop(columns=['movie_wikidata_id', 'imdb_id', 'movie_revenue_tmdb', 'book_goodreads_id',\n",
    "                                        'year', 'inflation_adjustment', 'book_wikidata_id'])\n",
    "                     )"
   ]
  },
  {
   "cell_type": "code",
   "execution_count": 75,
   "metadata": {},
   "outputs": [],
   "source": [
    "book_adaptation_df.to_csv(data_path / \"book_adaptation.csv\", index=False)"
   ]
  }
 ],
 "metadata": {
  "kernelspec": {
   "display_name": "ada",
   "language": "python",
   "name": "python3"
  },
  "language_info": {
   "codemirror_mode": {
    "name": "ipython",
    "version": 3
   },
   "file_extension": ".py",
   "mimetype": "text/x-python",
   "name": "python",
   "nbconvert_exporter": "python",
   "pygments_lexer": "ipython3",
   "version": "3.9.18"
  }
 },
 "nbformat": 4,
 "nbformat_minor": 2
}
